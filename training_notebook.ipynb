{
 "cells": [
  {
   "cell_type": "code",
   "execution_count": null,
   "metadata": {},
   "outputs": [],
   "source": [
    "import re\n",
    "import numpy as np\n",
    "import pandas as pd\n",
    "from tqdm import tqdm\n",
    "from datasets import Dataset\n",
    "import mlflow\n",
    "import torch\n",
    "from transformers import Trainer, TrainingArguments\n",
    "from transformer_lens import utils, HookedTransformer\n",
    "from transformers import (\n",
    "    GPT2Tokenizer, \n",
    "    GPT2LMHeadModel, \n",
    "    DataCollatorForLanguageModeling, \n",
    "    Trainer, \n",
    "    TrainingArguments\n",
    ")\n",
    "import mlflow\n",
    "from transformers.integrations import MLflowCallback\n",
    "\n",
    "from create_dataset import make_rows_from_chat\n",
    "\n",
    "file_name = \"artifacts/input_text.txt\"\n",
    "\n",
    "with open(file_name, \"r\") as file_read:\n",
    "    chat = file_read.read()\n",
    "\n",
    "chat_rows = make_rows_from_chat(chat)"
   ]
  }
 ],
 "metadata": {
  "kernelspec": {
   "display_name": "Python 3.11.1 ('slm-env': venv)",
   "language": "python",
   "name": "python3"
  },
  "language_info": {
   "name": "python",
   "version": "3.11.1"
  },
  "orig_nbformat": 4,
  "vscode": {
   "interpreter": {
    "hash": "fbbb8e684d57b8df141df854a0f38ddd4615731c6e64784ef39c5a6ebd7fa864"
   }
  }
 },
 "nbformat": 4,
 "nbformat_minor": 2
}
